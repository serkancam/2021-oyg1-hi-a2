{
 "cells": [
  {
   "cell_type": "code",
   "execution_count": 1,
   "metadata": {},
   "outputs": [],
   "source": [
    "import pandas as pd\n",
    "import numpy as np\n",
    "from sklearn.preprocessing import minmax_scale\n",
    "from sklearn.impute import SimpleImputer\n",
    "from sklearn.preprocessing import LabelEncoder"
   ]
  },
  {
   "cell_type": "code",
   "execution_count": 2,
   "metadata": {},
   "outputs": [
    {
     "data": {
      "text/html": [
       "<div>\n",
       "<style scoped>\n",
       "    .dataframe tbody tr th:only-of-type {\n",
       "        vertical-align: middle;\n",
       "    }\n",
       "\n",
       "    .dataframe tbody tr th {\n",
       "        vertical-align: top;\n",
       "    }\n",
       "\n",
       "    .dataframe thead th {\n",
       "        text-align: right;\n",
       "    }\n",
       "</style>\n",
       "<table border=\"1\" class=\"dataframe\">\n",
       "  <thead>\n",
       "    <tr style=\"text-align: right;\">\n",
       "      <th></th>\n",
       "      <th>yas</th>\n",
       "      <th>cinsiyet</th>\n",
       "      <th>gogus_agrisi_tipi</th>\n",
       "      <th>hareketsiz_kan_basinci</th>\n",
       "      <th>serum_kolestrol</th>\n",
       "      <th>aclik_kan_sekeri</th>\n",
       "      <th>elektrokardiyografi</th>\n",
       "      <th>en_yuksek_kalp_hizi</th>\n",
       "      <th>anjin_bagli_egsersiz</th>\n",
       "      <th>st_depresyonu</th>\n",
       "      <th>st_egimi</th>\n",
       "      <th>buyuk_damarlar</th>\n",
       "      <th>talasemi</th>\n",
       "      <th>kalp_rahatsizligi</th>\n",
       "    </tr>\n",
       "  </thead>\n",
       "  <tbody>\n",
       "    <tr>\n",
       "      <th>0</th>\n",
       "      <td>63.0</td>\n",
       "      <td>erkek</td>\n",
       "      <td>tipik anjinal</td>\n",
       "      <td>145.0</td>\n",
       "      <td>233.0</td>\n",
       "      <td>1</td>\n",
       "      <td>sol ventikuler hipertrofi</td>\n",
       "      <td>150.0</td>\n",
       "      <td>0</td>\n",
       "      <td>2.3</td>\n",
       "      <td>asagi egimli</td>\n",
       "      <td>0.0</td>\n",
       "      <td>sabit defekt</td>\n",
       "      <td>0</td>\n",
       "    </tr>\n",
       "    <tr>\n",
       "      <th>1</th>\n",
       "      <td>67.0</td>\n",
       "      <td>erkek</td>\n",
       "      <td>asemptomatik</td>\n",
       "      <td>160.0</td>\n",
       "      <td>286.0</td>\n",
       "      <td>0</td>\n",
       "      <td>sol ventikuler hipertrofi</td>\n",
       "      <td>108.0</td>\n",
       "      <td>1</td>\n",
       "      <td>1.5</td>\n",
       "      <td>duz</td>\n",
       "      <td>3.0</td>\n",
       "      <td>normal</td>\n",
       "      <td>1</td>\n",
       "    </tr>\n",
       "    <tr>\n",
       "      <th>2</th>\n",
       "      <td>67.0</td>\n",
       "      <td>erkek</td>\n",
       "      <td>asemptomatik</td>\n",
       "      <td>120.0</td>\n",
       "      <td>229.0</td>\n",
       "      <td>0</td>\n",
       "      <td>sol ventikuler hipertrofi</td>\n",
       "      <td>129.0</td>\n",
       "      <td>1</td>\n",
       "      <td>2.6</td>\n",
       "      <td>duz</td>\n",
       "      <td>2.0</td>\n",
       "      <td>tersinir defekt</td>\n",
       "      <td>1</td>\n",
       "    </tr>\n",
       "  </tbody>\n",
       "</table>\n",
       "</div>"
      ],
      "text/plain": [
       "    yas cinsiyet gogus_agrisi_tipi  hareketsiz_kan_basinci  serum_kolestrol  \\\n",
       "0  63.0    erkek     tipik anjinal                   145.0            233.0   \n",
       "1  67.0    erkek      asemptomatik                   160.0            286.0   \n",
       "2  67.0    erkek      asemptomatik                   120.0            229.0   \n",
       "\n",
       "   aclik_kan_sekeri        elektrokardiyografi  en_yuksek_kalp_hizi  \\\n",
       "0                 1  sol ventikuler hipertrofi                150.0   \n",
       "1                 0  sol ventikuler hipertrofi                108.0   \n",
       "2                 0  sol ventikuler hipertrofi                129.0   \n",
       "\n",
       "   anjin_bagli_egsersiz  st_depresyonu      st_egimi  buyuk_damarlar  \\\n",
       "0                     0            2.3  asagi egimli             0.0   \n",
       "1                     1            1.5           duz             3.0   \n",
       "2                     1            2.6           duz             2.0   \n",
       "\n",
       "          talasemi  kalp_rahatsizligi  \n",
       "0     sabit defekt                  0  \n",
       "1           normal                  1  \n",
       "2  tersinir defekt                  1  "
      ]
     },
     "execution_count": 2,
     "metadata": {},
     "output_type": "execute_result"
    }
   ],
   "source": [
    "veri=pd.read_csv(\"kalp_rahatsizligi2.csv\")\n",
    "veri.head(3)"
   ]
  },
  {
   "cell_type": "code",
   "execution_count": 3,
   "metadata": {},
   "outputs": [
    {
     "name": "stdout",
     "output_type": "stream",
     "text": [
      "<class 'pandas.core.frame.DataFrame'>\n",
      "RangeIndex: 303 entries, 0 to 302\n",
      "Data columns (total 14 columns):\n",
      " #   Column                  Non-Null Count  Dtype  \n",
      "---  ------                  --------------  -----  \n",
      " 0   yas                     303 non-null    float64\n",
      " 1   cinsiyet                303 non-null    object \n",
      " 2   gogus_agrisi_tipi       303 non-null    object \n",
      " 3   hareketsiz_kan_basinci  303 non-null    float64\n",
      " 4   serum_kolestrol         303 non-null    float64\n",
      " 5   aclik_kan_sekeri        303 non-null    int64  \n",
      " 6   elektrokardiyografi     303 non-null    object \n",
      " 7   en_yuksek_kalp_hizi     303 non-null    float64\n",
      " 8   anjin_bagli_egsersiz    303 non-null    int64  \n",
      " 9   st_depresyonu           303 non-null    float64\n",
      " 10  st_egimi                303 non-null    object \n",
      " 11  buyuk_damarlar          299 non-null    float64\n",
      " 12  talasemi                301 non-null    object \n",
      " 13  kalp_rahatsizligi       303 non-null    int64  \n",
      "dtypes: float64(6), int64(3), object(5)\n",
      "memory usage: 33.3+ KB\n"
     ]
    }
   ],
   "source": [
    "veri.info()"
   ]
  },
  {
   "cell_type": "code",
   "execution_count": 4,
   "metadata": {},
   "outputs": [
    {
     "name": "stdout",
     "output_type": "stream",
     "text": [
      "<class 'pandas.core.frame.DataFrame'>\n",
      "RangeIndex: 303 entries, 0 to 302\n",
      "Data columns (total 14 columns):\n",
      " #   Column             Non-Null Count  Dtype  \n",
      "---  ------             --------------  -----  \n",
      " 0   yas                303 non-null    float64\n",
      " 1   cinsiyet           303 non-null    object \n",
      " 2   gat                303 non-null    object \n",
      " 3   hkb                303 non-null    float64\n",
      " 4   sk                 303 non-null    float64\n",
      " 5   aks                303 non-null    int64  \n",
      " 6   ekg                303 non-null    object \n",
      " 7   eykh               303 non-null    float64\n",
      " 8   abe                303 non-null    int64  \n",
      " 9   st_d               303 non-null    float64\n",
      " 10  st_e               303 non-null    object \n",
      " 11  bds                299 non-null    float64\n",
      " 12  talasemi           301 non-null    object \n",
      " 13  kalp_rahatsizligi  303 non-null    int64  \n",
      "dtypes: float64(6), int64(3), object(5)\n",
      "memory usage: 33.3+ KB\n"
     ]
    }
   ],
   "source": [
    "veri.rename(columns={\n",
    "\"gogus_agrisi_tipi\":\"gat\",\n",
    "\"hareketsiz_kan_basinci\":\"hkb\",\n",
    "\"serum_kolestrol\":\"sk\",\n",
    "\"aclik_kan_sekeri\":\"aks\",\n",
    "\"elektrokardiyografi\":\"ekg\",\n",
    "\"en_yuksek_kalp_hizi\":\"eykh\",\n",
    "\"anjin_bagli_egsersiz\":\"abe\",\n",
    "\"st_depresyonu\":\"st_d\",\n",
    "\"st_egimi\":\"st_e\",\n",
    "\"buyuk_damarlar\":\"bds\"},inplace=True)\n",
    "veri.info()"
   ]
  },
  {
   "cell_type": "code",
   "execution_count": 7,
   "metadata": {},
   "outputs": [
    {
     "name": "stdout",
     "output_type": "stream",
     "text": [
      "<class 'pandas.core.frame.DataFrame'>\n",
      "RangeIndex: 303 entries, 0 to 302\n",
      "Data columns (total 12 columns):\n",
      " #   Column             Non-Null Count  Dtype  \n",
      "---  ------             --------------  -----  \n",
      " 0   yas                303 non-null    float64\n",
      " 1   cinsiyet           303 non-null    object \n",
      " 2   gat                303 non-null    object \n",
      " 3   hkb                303 non-null    float64\n",
      " 4   sk                 303 non-null    float64\n",
      " 5   aks                303 non-null    int64  \n",
      " 6   ekg                303 non-null    object \n",
      " 7   eykh               303 non-null    float64\n",
      " 8   abe                303 non-null    int64  \n",
      " 9   st_d               303 non-null    float64\n",
      " 10  st_e               303 non-null    object \n",
      " 11  kalp_rahatsizligi  303 non-null    int64  \n",
      "dtypes: float64(5), int64(3), object(4)\n",
      "memory usage: 28.5+ KB\n"
     ]
    }
   ],
   "source": [
    "# eksik veri olan sütunları yokedip yeni değişken oluşturduk\n",
    "veri2 = veri.drop(labels=[\"bds\",\"talasemi\"],axis=1)\n",
    "veri2.info()"
   ]
  },
  {
   "cell_type": "code",
   "execution_count": 8,
   "metadata": {},
   "outputs": [
    {
     "name": "stdout",
     "output_type": "stream",
     "text": [
      "<class 'pandas.core.frame.DataFrame'>\n",
      "Int64Index: 297 entries, 0 to 301\n",
      "Data columns (total 14 columns):\n",
      " #   Column             Non-Null Count  Dtype  \n",
      "---  ------             --------------  -----  \n",
      " 0   yas                297 non-null    float64\n",
      " 1   cinsiyet           297 non-null    object \n",
      " 2   gat                297 non-null    object \n",
      " 3   hkb                297 non-null    float64\n",
      " 4   sk                 297 non-null    float64\n",
      " 5   aks                297 non-null    int64  \n",
      " 6   ekg                297 non-null    object \n",
      " 7   eykh               297 non-null    float64\n",
      " 8   abe                297 non-null    int64  \n",
      " 9   st_d               297 non-null    float64\n",
      " 10  st_e               297 non-null    object \n",
      " 11  bds                297 non-null    float64\n",
      " 12  talasemi           297 non-null    object \n",
      " 13  kalp_rahatsizligi  297 non-null    int64  \n",
      "dtypes: float64(6), int64(3), object(5)\n",
      "memory usage: 34.8+ KB\n"
     ]
    }
   ],
   "source": [
    "# eksik veri olan satırları yok edelim\n",
    "veri3=veri.dropna(axis=0)\n",
    "veri3.info()"
   ]
  },
  {
   "cell_type": "code",
   "execution_count": 9,
   "metadata": {},
   "outputs": [],
   "source": [
    "#kategorik ve sayısal veriler için ayrı olarak imputer tanımlandı\n",
    "imps=SimpleImputer(missing_values=np.nan,strategy=\"median\")\n",
    "impk=SimpleImputer(missing_values=np.nan,strategy=\"most_frequent\")"
   ]
  },
  {
   "cell_type": "code",
   "execution_count": 10,
   "metadata": {},
   "outputs": [
    {
     "name": "stdout",
     "output_type": "stream",
     "text": [
      "<class 'pandas.core.frame.DataFrame'>\n",
      "RangeIndex: 303 entries, 0 to 302\n",
      "Data columns (total 14 columns):\n",
      " #   Column             Non-Null Count  Dtype  \n",
      "---  ------             --------------  -----  \n",
      " 0   yas                303 non-null    float64\n",
      " 1   cinsiyet           303 non-null    object \n",
      " 2   gat                303 non-null    object \n",
      " 3   hkb                303 non-null    float64\n",
      " 4   sk                 303 non-null    float64\n",
      " 5   aks                303 non-null    int64  \n",
      " 6   ekg                303 non-null    object \n",
      " 7   eykh               303 non-null    float64\n",
      " 8   abe                303 non-null    int64  \n",
      " 9   st_d               303 non-null    float64\n",
      " 10  st_e               303 non-null    object \n",
      " 11  bds                299 non-null    float64\n",
      " 12  talasemi           301 non-null    object \n",
      " 13  kalp_rahatsizligi  303 non-null    int64  \n",
      "dtypes: float64(6), int64(3), object(5)\n",
      "memory usage: 33.3+ KB\n"
     ]
    }
   ],
   "source": [
    "veri_temiz=veri.copy()\n",
    "veri_temiz.info()"
   ]
  },
  {
   "cell_type": "code",
   "execution_count": 11,
   "metadata": {},
   "outputs": [
    {
     "name": "stdout",
     "output_type": "stream",
     "text": [
      "<class 'pandas.core.frame.DataFrame'>\n",
      "RangeIndex: 303 entries, 0 to 302\n",
      "Data columns (total 14 columns):\n",
      " #   Column             Non-Null Count  Dtype  \n",
      "---  ------             --------------  -----  \n",
      " 0   yas                303 non-null    float64\n",
      " 1   cinsiyet           303 non-null    object \n",
      " 2   gat                303 non-null    object \n",
      " 3   hkb                303 non-null    float64\n",
      " 4   sk                 303 non-null    float64\n",
      " 5   aks                303 non-null    int64  \n",
      " 6   ekg                303 non-null    object \n",
      " 7   eykh               303 non-null    float64\n",
      " 8   abe                303 non-null    int64  \n",
      " 9   st_d               303 non-null    float64\n",
      " 10  st_e               303 non-null    object \n",
      " 11  bds                303 non-null    float64\n",
      " 12  talasemi           303 non-null    object \n",
      " 13  kalp_rahatsizligi  303 non-null    int64  \n",
      "dtypes: float64(6), int64(3), object(5)\n",
      "memory usage: 33.3+ KB\n"
     ]
    }
   ],
   "source": [
    "bds=veri_temiz[\"bds\"].values.reshape(-1,1)\n",
    "tal=veri_temiz[\"talasemi\"].values.reshape(-1,1)\n",
    "veri_temiz[\"bds\"]=imps.fit_transform(bds)\n",
    "veri_temiz[\"talasemi\"]=impk.fit_transform(tal)\n",
    "veri_temiz.info()"
   ]
  },
  {
   "cell_type": "code",
   "execution_count": 16,
   "metadata": {},
   "outputs": [
    {
     "name": "stdout",
     "output_type": "stream",
     "text": [
      "sk q1= 211.0\n",
      "sk q3= 275.0\n"
     ]
    }
   ],
   "source": [
    "# aykırı verilerin tespit edilmesi.\n",
    "print(\"sk q1=\",veri_temiz[\"sk\"].describe()[\"25%\"])\n",
    "print(\"sk q3=\",veri_temiz[\"sk\"].describe()[\"75%\"])"
   ]
  },
  {
   "cell_type": "code",
   "execution_count": 17,
   "metadata": {},
   "outputs": [
    {
     "name": "stdout",
     "output_type": "stream",
     "text": [
      "sk alt sınır= 115.0\n",
      "sk üst sınır= 371.0\n"
     ]
    }
   ],
   "source": [
    "sk_q1=veri_temiz[\"sk\"].describe()[\"25%\"]\n",
    "sk_q3=veri_temiz[\"sk\"].describe()[\"75%\"]\n",
    "sk_IQR=sk_q3-sk_q1\n",
    "alt_sinir=sk_q1-1.5*sk_IQR\n",
    "ust_sinir=sk_q3+1.5*sk_IQR\n",
    "print(\"sk alt sınır=\",alt_sinir)\n",
    "print(\"sk üst sınır=\",ust_sinir)"
   ]
  },
  {
   "cell_type": "code",
   "execution_count": 19,
   "metadata": {},
   "outputs": [
    {
     "data": {
      "text/plain": [
       "48     417.0\n",
       "121    407.0\n",
       "152    564.0\n",
       "173    394.0\n",
       "181    409.0\n",
       "Name: sk, dtype: float64"
      ]
     },
     "execution_count": 19,
     "metadata": {},
     "output_type": "execute_result"
    }
   ],
   "source": [
    "#aykırı değerler tespit edildi\n",
    "aykiri=veri_temiz[(veri_temiz[\"sk\"]<alt_sinir)|(veri_temiz[\"sk\"]>ust_sinir)]\n",
    "aykiri[\"sk\"]"
   ]
  },
  {
   "cell_type": "code",
   "execution_count": 20,
   "metadata": {},
   "outputs": [
    {
     "name": "stdout",
     "output_type": "stream",
     "text": [
      "<class 'pandas.core.frame.DataFrame'>\n",
      "Int64Index: 298 entries, 0 to 302\n",
      "Data columns (total 14 columns):\n",
      " #   Column             Non-Null Count  Dtype  \n",
      "---  ------             --------------  -----  \n",
      " 0   yas                298 non-null    float64\n",
      " 1   cinsiyet           298 non-null    object \n",
      " 2   gat                298 non-null    object \n",
      " 3   hkb                298 non-null    float64\n",
      " 4   sk                 298 non-null    float64\n",
      " 5   aks                298 non-null    int64  \n",
      " 6   ekg                298 non-null    object \n",
      " 7   eykh               298 non-null    float64\n",
      " 8   abe                298 non-null    int64  \n",
      " 9   st_d               298 non-null    float64\n",
      " 10  st_e               298 non-null    object \n",
      " 11  bds                298 non-null    float64\n",
      " 12  talasemi           298 non-null    object \n",
      " 13  kalp_rahatsizligi  298 non-null    int64  \n",
      "dtypes: float64(6), int64(3), object(5)\n",
      "memory usage: 34.9+ KB\n"
     ]
    }
   ],
   "source": [
    "veri_temiz=veri_temiz[(veri_temiz[\"sk\"]>alt_sinir)&(veri_temiz[\"sk\"]<ust_sinir)]\n",
    "veri_temiz.info()"
   ]
  },
  {
   "cell_type": "code",
   "execution_count": null,
   "metadata": {},
   "outputs": [],
   "source": [
    "# ilk 20 satıraın yas,cinsiyet ve gat sütunları\n",
    "veri_temiz.iloc[0:21,0:3]"
   ]
  },
  {
   "cell_type": "code",
   "execution_count": null,
   "metadata": {},
   "outputs": [],
   "source": [
    "#yas ve cinsiyet sütunlarının tüm satırları\n",
    "veri_temiz.iloc[:,0:2]"
   ]
  },
  {
   "cell_type": "code",
   "execution_count": 25,
   "metadata": {},
   "outputs": [
    {
     "data": {
      "text/html": [
       "<div>\n",
       "<style scoped>\n",
       "    .dataframe tbody tr th:only-of-type {\n",
       "        vertical-align: middle;\n",
       "    }\n",
       "\n",
       "    .dataframe tbody tr th {\n",
       "        vertical-align: top;\n",
       "    }\n",
       "\n",
       "    .dataframe thead th {\n",
       "        text-align: right;\n",
       "    }\n",
       "</style>\n",
       "<table border=\"1\" class=\"dataframe\">\n",
       "  <thead>\n",
       "    <tr style=\"text-align: right;\">\n",
       "      <th></th>\n",
       "      <th>yas</th>\n",
       "      <th>abe</th>\n",
       "      <th>bds</th>\n",
       "    </tr>\n",
       "  </thead>\n",
       "  <tbody>\n",
       "    <tr>\n",
       "      <th>50</th>\n",
       "      <td>41.0</td>\n",
       "      <td>0</td>\n",
       "      <td>1.0</td>\n",
       "    </tr>\n",
       "    <tr>\n",
       "      <th>58</th>\n",
       "      <td>54.0</td>\n",
       "      <td>0</td>\n",
       "      <td>1.0</td>\n",
       "    </tr>\n",
       "    <tr>\n",
       "      <th>60</th>\n",
       "      <td>51.0</td>\n",
       "      <td>1</td>\n",
       "      <td>0.0</td>\n",
       "    </tr>\n",
       "  </tbody>\n",
       "</table>\n",
       "</div>"
      ],
      "text/plain": [
       "     yas  abe  bds\n",
       "50  41.0    0  1.0\n",
       "58  54.0    0  1.0\n",
       "60  51.0    1  0.0"
      ]
     },
     "execution_count": 25,
     "metadata": {},
     "output_type": "execute_result"
    }
   ],
   "source": [
    "# yas,abe,bds sürunlarının 50,58 ve 60. satıarları\n",
    "veri_temiz.iloc[[49,57,59],[0,8,11]]"
   ]
  },
  {
   "cell_type": "code",
   "execution_count": 26,
   "metadata": {},
   "outputs": [
    {
     "data": {
      "text/html": [
       "<div>\n",
       "<style scoped>\n",
       "    .dataframe tbody tr th:only-of-type {\n",
       "        vertical-align: middle;\n",
       "    }\n",
       "\n",
       "    .dataframe tbody tr th {\n",
       "        vertical-align: top;\n",
       "    }\n",
       "\n",
       "    .dataframe thead th {\n",
       "        text-align: right;\n",
       "    }\n",
       "</style>\n",
       "<table border=\"1\" class=\"dataframe\">\n",
       "  <thead>\n",
       "    <tr style=\"text-align: right;\">\n",
       "      <th></th>\n",
       "      <th>yas</th>\n",
       "      <th>cinsiyet</th>\n",
       "      <th>gat</th>\n",
       "      <th>hkb</th>\n",
       "      <th>sk</th>\n",
       "      <th>aks</th>\n",
       "      <th>ekg</th>\n",
       "      <th>eykh</th>\n",
       "      <th>abe</th>\n",
       "      <th>st_d</th>\n",
       "      <th>st_e</th>\n",
       "      <th>bds</th>\n",
       "      <th>talasemi</th>\n",
       "      <th>kalp_rahatsizligi</th>\n",
       "    </tr>\n",
       "  </thead>\n",
       "  <tbody>\n",
       "    <tr>\n",
       "      <th>0</th>\n",
       "      <td>63.0</td>\n",
       "      <td>erkek</td>\n",
       "      <td>tipik anjinal</td>\n",
       "      <td>145.0</td>\n",
       "      <td>233.0</td>\n",
       "      <td>1</td>\n",
       "      <td>sol ventikuler hipertrofi</td>\n",
       "      <td>150.0</td>\n",
       "      <td>0</td>\n",
       "      <td>2.3</td>\n",
       "      <td>asagi egimli</td>\n",
       "      <td>0.0</td>\n",
       "      <td>sabit defekt</td>\n",
       "      <td>0</td>\n",
       "    </tr>\n",
       "    <tr>\n",
       "      <th>1</th>\n",
       "      <td>67.0</td>\n",
       "      <td>erkek</td>\n",
       "      <td>asemptomatik</td>\n",
       "      <td>160.0</td>\n",
       "      <td>286.0</td>\n",
       "      <td>0</td>\n",
       "      <td>sol ventikuler hipertrofi</td>\n",
       "      <td>108.0</td>\n",
       "      <td>1</td>\n",
       "      <td>1.5</td>\n",
       "      <td>duz</td>\n",
       "      <td>3.0</td>\n",
       "      <td>normal</td>\n",
       "      <td>1</td>\n",
       "    </tr>\n",
       "    <tr>\n",
       "      <th>2</th>\n",
       "      <td>67.0</td>\n",
       "      <td>erkek</td>\n",
       "      <td>asemptomatik</td>\n",
       "      <td>120.0</td>\n",
       "      <td>229.0</td>\n",
       "      <td>0</td>\n",
       "      <td>sol ventikuler hipertrofi</td>\n",
       "      <td>129.0</td>\n",
       "      <td>1</td>\n",
       "      <td>2.6</td>\n",
       "      <td>duz</td>\n",
       "      <td>2.0</td>\n",
       "      <td>tersinir defekt</td>\n",
       "      <td>1</td>\n",
       "    </tr>\n",
       "  </tbody>\n",
       "</table>\n",
       "</div>"
      ],
      "text/plain": [
       "    yas cinsiyet            gat    hkb     sk  aks                        ekg  \\\n",
       "0  63.0    erkek  tipik anjinal  145.0  233.0    1  sol ventikuler hipertrofi   \n",
       "1  67.0    erkek   asemptomatik  160.0  286.0    0  sol ventikuler hipertrofi   \n",
       "2  67.0    erkek   asemptomatik  120.0  229.0    0  sol ventikuler hipertrofi   \n",
       "\n",
       "    eykh  abe  st_d          st_e  bds         talasemi  kalp_rahatsizligi  \n",
       "0  150.0    0   2.3  asagi egimli  0.0     sabit defekt                  0  \n",
       "1  108.0    1   1.5           duz  3.0           normal                  1  \n",
       "2  129.0    1   2.6           duz  2.0  tersinir defekt                  1  "
      ]
     },
     "execution_count": 26,
     "metadata": {},
     "output_type": "execute_result"
    }
   ],
   "source": [
    "veri_temiz.head(3)"
   ]
  },
  {
   "cell_type": "code",
   "execution_count": 27,
   "metadata": {},
   "outputs": [
    {
     "data": {
      "text/html": [
       "<div>\n",
       "<style scoped>\n",
       "    .dataframe tbody tr th:only-of-type {\n",
       "        vertical-align: middle;\n",
       "    }\n",
       "\n",
       "    .dataframe tbody tr th {\n",
       "        vertical-align: top;\n",
       "    }\n",
       "\n",
       "    .dataframe thead th {\n",
       "        text-align: right;\n",
       "    }\n",
       "</style>\n",
       "<table border=\"1\" class=\"dataframe\">\n",
       "  <thead>\n",
       "    <tr style=\"text-align: right;\">\n",
       "      <th></th>\n",
       "      <th>yas</th>\n",
       "      <th>cinsiyet</th>\n",
       "      <th>gat</th>\n",
       "      <th>hkb</th>\n",
       "      <th>sk</th>\n",
       "      <th>aks</th>\n",
       "      <th>ekg</th>\n",
       "      <th>eykh</th>\n",
       "      <th>abe</th>\n",
       "      <th>st_d</th>\n",
       "      <th>st_e</th>\n",
       "      <th>bds</th>\n",
       "      <th>talasemi</th>\n",
       "      <th>kalp_rahatsizligi</th>\n",
       "    </tr>\n",
       "  </thead>\n",
       "  <tbody>\n",
       "    <tr>\n",
       "      <th>0</th>\n",
       "      <td>0.708333</td>\n",
       "      <td>erkek</td>\n",
       "      <td>tipik anjinal</td>\n",
       "      <td>0.481132</td>\n",
       "      <td>0.457265</td>\n",
       "      <td>1</td>\n",
       "      <td>sol ventikuler hipertrofi</td>\n",
       "      <td>0.603053</td>\n",
       "      <td>0</td>\n",
       "      <td>0.370968</td>\n",
       "      <td>asagi egimli</td>\n",
       "      <td>0.000000</td>\n",
       "      <td>sabit defekt</td>\n",
       "      <td>0</td>\n",
       "    </tr>\n",
       "    <tr>\n",
       "      <th>1</th>\n",
       "      <td>0.791667</td>\n",
       "      <td>erkek</td>\n",
       "      <td>asemptomatik</td>\n",
       "      <td>0.622642</td>\n",
       "      <td>0.683761</td>\n",
       "      <td>0</td>\n",
       "      <td>sol ventikuler hipertrofi</td>\n",
       "      <td>0.282443</td>\n",
       "      <td>1</td>\n",
       "      <td>0.241935</td>\n",
       "      <td>duz</td>\n",
       "      <td>1.000000</td>\n",
       "      <td>normal</td>\n",
       "      <td>1</td>\n",
       "    </tr>\n",
       "    <tr>\n",
       "      <th>2</th>\n",
       "      <td>0.791667</td>\n",
       "      <td>erkek</td>\n",
       "      <td>asemptomatik</td>\n",
       "      <td>0.245283</td>\n",
       "      <td>0.440171</td>\n",
       "      <td>0</td>\n",
       "      <td>sol ventikuler hipertrofi</td>\n",
       "      <td>0.442748</td>\n",
       "      <td>1</td>\n",
       "      <td>0.419355</td>\n",
       "      <td>duz</td>\n",
       "      <td>0.666667</td>\n",
       "      <td>tersinir defekt</td>\n",
       "      <td>1</td>\n",
       "    </tr>\n",
       "  </tbody>\n",
       "</table>\n",
       "</div>"
      ],
      "text/plain": [
       "        yas cinsiyet            gat       hkb        sk  aks  \\\n",
       "0  0.708333    erkek  tipik anjinal  0.481132  0.457265    1   \n",
       "1  0.791667    erkek   asemptomatik  0.622642  0.683761    0   \n",
       "2  0.791667    erkek   asemptomatik  0.245283  0.440171    0   \n",
       "\n",
       "                         ekg      eykh  abe      st_d          st_e       bds  \\\n",
       "0  sol ventikuler hipertrofi  0.603053    0  0.370968  asagi egimli  0.000000   \n",
       "1  sol ventikuler hipertrofi  0.282443    1  0.241935           duz  1.000000   \n",
       "2  sol ventikuler hipertrofi  0.442748    1  0.419355           duz  0.666667   \n",
       "\n",
       "          talasemi  kalp_rahatsizligi  \n",
       "0     sabit defekt                  0  \n",
       "1           normal                  1  \n",
       "2  tersinir defekt                  1  "
      ]
     },
     "execution_count": 27,
     "metadata": {},
     "output_type": "execute_result"
    }
   ],
   "source": [
    "veri_temiz.iloc[:,[0,3,4,7,9,11]]=minmax_scale(X=veri_temiz.iloc[:,[0,3,4,7,9,11]].values,feature_range=(0,1))\n",
    "veri_temiz.head(3)"
   ]
  },
  {
   "cell_type": "code",
   "execution_count": 28,
   "metadata": {},
   "outputs": [
    {
     "name": "stdout",
     "output_type": "stream",
     "text": [
      "<class 'pandas.core.frame.DataFrame'>\n",
      "Int64Index: 298 entries, 0 to 302\n",
      "Data columns (total 14 columns):\n",
      " #   Column             Non-Null Count  Dtype  \n",
      "---  ------             --------------  -----  \n",
      " 0   yas                298 non-null    float64\n",
      " 1   cinsiyet           298 non-null    int64  \n",
      " 2   gat                298 non-null    int64  \n",
      " 3   hkb                298 non-null    float64\n",
      " 4   sk                 298 non-null    float64\n",
      " 5   aks                298 non-null    int64  \n",
      " 6   ekg                298 non-null    int64  \n",
      " 7   eykh               298 non-null    float64\n",
      " 8   abe                298 non-null    int64  \n",
      " 9   st_d               298 non-null    float64\n",
      " 10  st_e               298 non-null    int64  \n",
      " 11  bds                298 non-null    float64\n",
      " 12  talasemi           298 non-null    int64  \n",
      " 13  kalp_rahatsizligi  298 non-null    int64  \n",
      "dtypes: float64(6), int64(8)\n",
      "memory usage: 34.9 KB\n",
      "None\n"
     ]
    }
   ],
   "source": [
    "le=LabelEncoder()\n",
    "veri_temiz[\"cinsiyet\"]=le.fit_transform(y=veri_temiz[\"cinsiyet\"])\n",
    "veri_temiz[\"gat\"]=le.fit_transform(y=veri_temiz[\"gat\"])\n",
    "veri_temiz[\"ekg\"]=le.fit_transform(y=veri_temiz[\"ekg\"])\n",
    "veri_temiz[\"st_e\"]=le.fit_transform(y=veri_temiz[\"st_e\"])\n",
    "veri_temiz[\"talasemi\"]=le.fit_transform(y=veri_temiz[\"talasemi\"])\n",
    "print(veri_temiz.info())"
   ]
  },
  {
   "cell_type": "code",
   "execution_count": null,
   "metadata": {},
   "outputs": [],
   "source": [
    "veri_temiz[\"cinsiyet\"]=veri_temiz[\"cinsiyet\"].astype(\"category\")\n",
    "veri_temiz[\"gat\"]=veri_temiz[\"gat\"].astype(\"category\")\n",
    "veri_temiz[\"ekg\"]=veri_temiz[\"ekg\"].astype(\"category\")\n",
    "veri_temiz[\"st_e\"]=veri_temiz[\"st_e\"].astype(\"category\")\n",
    "veri_temiz[\"talasemi\"]=veri_temiz[\"talasemi\"].astype(\"category\")\n",
    "veri_temiz.info()"
   ]
  },
  {
   "cell_type": "code",
   "execution_count": 30,
   "metadata": {},
   "outputs": [],
   "source": [
    "veri_temiz.to_csv(\"kalp_rahatsizlik_temiz.csv\",index=False)"
   ]
  }
 ],
 "metadata": {
  "interpreter": {
   "hash": "916dbcbb3f70747c44a77c7bcd40155683ae19c65e1c03b4aa3499c5328201f1"
  },
  "kernelspec": {
   "display_name": "Python 3.9.2 64-bit",
   "language": "python",
   "name": "python3"
  },
  "language_info": {
   "codemirror_mode": {
    "name": "ipython",
    "version": 3
   },
   "file_extension": ".py",
   "mimetype": "text/x-python",
   "name": "python",
   "nbconvert_exporter": "python",
   "pygments_lexer": "ipython3",
   "version": "3.9.2"
  },
  "orig_nbformat": 4
 },
 "nbformat": 4,
 "nbformat_minor": 2
}
