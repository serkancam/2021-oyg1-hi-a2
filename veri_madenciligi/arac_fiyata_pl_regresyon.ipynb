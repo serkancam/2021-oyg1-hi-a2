{
 "cells": [
  {
   "cell_type": "code",
   "execution_count": 1,
   "metadata": {},
   "outputs": [],
   "source": [
    "#polinomal regresyon,\n",
    "import pandas as pd\n",
    "from sklearn.model_selection import train_test_split\n",
    "from sklearn.linear_model import LinearRegression\n",
    "from sklearn.preprocessing import PolynomialFeatures\n",
    "from joblib import dump"
   ]
  },
  {
   "cell_type": "code",
   "execution_count": null,
   "metadata": {},
   "outputs": [],
   "source": [
    "veri = pd.read_csv(\"car_preprocess.csv\")\n",
    "veri.info()\n",
    "veri.head(3)"
   ]
  },
  {
   "cell_type": "code",
   "execution_count": 3,
   "metadata": {},
   "outputs": [],
   "source": [
    "# veriyi X ve y gibi 2 kısma ayırmak\n",
    "X = veri.iloc[:,1:10].values\n",
    "y = veri.iloc[:,0].values.reshape(-1,1)"
   ]
  },
  {
   "cell_type": "code",
   "execution_count": 4,
   "metadata": {},
   "outputs": [],
   "source": [
    "# veriyi 4 parçaya ayıracağız x_egitim,x_test,y_egitim,y_test\n",
    "x_egitim,x_test,y_egitm,y_test= train_test_split(X,y,test_size=0.2,random_state=22)"
   ]
  },
  {
   "cell_type": "code",
   "execution_count": 20,
   "metadata": {},
   "outputs": [],
   "source": [
    "# oluşan x_egitim ve x_test parçalarını (polinom değerlerine dönüştürceğiz (2 derecen)),\n",
    "pol_regx=PolynomialFeatures(degree=2)\n",
    "x_pol_egitim=pol_regx.fit_transform(x_egitim)\n",
    "x_pol_test=pol_regx.fit_transform(x_test)"
   ]
  },
  {
   "cell_type": "code",
   "execution_count": 21,
   "metadata": {},
   "outputs": [
    {
     "name": "stdout",
     "output_type": "stream",
     "text": [
      "0.8120627570566767\n"
     ]
    }
   ],
   "source": [
    "# oluşan polinomal x_pol_egitim degerleri ile doğrsal regresyon uygulanır\n",
    "model=LinearRegression()\n",
    "model.fit(x_pol_egitim,y_egitm)\n",
    "print(model.score(x_pol_test,y_test))"
   ]
  },
  {
   "cell_type": "code",
   "execution_count": 22,
   "metadata": {},
   "outputs": [
    {
     "name": "stdout",
     "output_type": "stream",
     "text": [
      "0.6142539317275937\n"
     ]
    }
   ],
   "source": [
    "model2=LinearRegression()\n",
    "model2.fit(x_egitim,y_egitm)\n",
    "print(model2.score(x_test,y_test))"
   ]
  }
 ],
 "metadata": {
  "interpreter": {
   "hash": "916dbcbb3f70747c44a77c7bcd40155683ae19c65e1c03b4aa3499c5328201f1"
  },
  "kernelspec": {
   "display_name": "Python 3.9.2 64-bit",
   "language": "python",
   "name": "python3"
  },
  "language_info": {
   "codemirror_mode": {
    "name": "ipython",
    "version": 3
   },
   "file_extension": ".py",
   "mimetype": "text/x-python",
   "name": "python",
   "nbconvert_exporter": "python",
   "pygments_lexer": "ipython3",
   "version": "3.9.2"
  },
  "orig_nbformat": 4
 },
 "nbformat": 4,
 "nbformat_minor": 2
}
