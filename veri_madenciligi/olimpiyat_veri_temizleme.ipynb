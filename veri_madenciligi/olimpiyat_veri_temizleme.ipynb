{
 "cells": [
  {
   "cell_type": "code",
   "execution_count": 63,
   "metadata": {},
   "outputs": [],
   "source": [
    "import pandas as pd\n",
    "import numpy as np\n",
    "from sklearn.preprocessing import minmax_scale\n",
    "from sklearn.impute import SimpleImputer\n",
    "from sklearn.preprocessing import LabelEncoder"
   ]
  },
  {
   "cell_type": "code",
   "execution_count": 64,
   "metadata": {},
   "outputs": [
    {
     "data": {
      "text/html": [
       "<div>\n",
       "<style scoped>\n",
       "    .dataframe tbody tr th:only-of-type {\n",
       "        vertical-align: middle;\n",
       "    }\n",
       "\n",
       "    .dataframe tbody tr th {\n",
       "        vertical-align: top;\n",
       "    }\n",
       "\n",
       "    .dataframe thead th {\n",
       "        text-align: right;\n",
       "    }\n",
       "</style>\n",
       "<table border=\"1\" class=\"dataframe\">\n",
       "  <thead>\n",
       "    <tr style=\"text-align: right;\">\n",
       "      <th></th>\n",
       "      <th>isim</th>\n",
       "      <th>cinsiyet</th>\n",
       "      <th>yas</th>\n",
       "      <th>boy</th>\n",
       "      <th>kilo</th>\n",
       "      <th>spor</th>\n",
       "    </tr>\n",
       "  </thead>\n",
       "  <tbody>\n",
       "    <tr>\n",
       "      <th>0</th>\n",
       "      <td>Slvia Domnguez Fernndez</td>\n",
       "      <td>K</td>\n",
       "      <td>29.0</td>\n",
       "      <td>167.0</td>\n",
       "      <td>64.0</td>\n",
       "      <td>Basketbol</td>\n",
       "    </tr>\n",
       "    <tr>\n",
       "      <th>1</th>\n",
       "      <td>Usman Edu Muhammed</td>\n",
       "      <td>E</td>\n",
       "      <td>22.0</td>\n",
       "      <td>169.0</td>\n",
       "      <td>78.0</td>\n",
       "      <td>Futbol</td>\n",
       "    </tr>\n",
       "    <tr>\n",
       "      <th>2</th>\n",
       "      <td>Okechukwu Godson Azubuike</td>\n",
       "      <td>E</td>\n",
       "      <td>19.0</td>\n",
       "      <td>170.0</td>\n",
       "      <td>68.0</td>\n",
       "      <td>Futbol</td>\n",
       "    </tr>\n",
       "  </tbody>\n",
       "</table>\n",
       "</div>"
      ],
      "text/plain": [
       "                        isim cinsiyet   yas    boy  kilo       spor\n",
       "0    Slvia Domnguez Fernndez        K  29.0  167.0  64.0  Basketbol\n",
       "1         Usman Edu Muhammed        E  22.0  169.0  78.0     Futbol\n",
       "2  Okechukwu Godson Azubuike        E  19.0  170.0  68.0     Futbol"
      ]
     },
     "execution_count": 64,
     "metadata": {},
     "output_type": "execute_result"
    }
   ],
   "source": [
    "veri=pd.read_csv(\"olimpiyat2.csv\")\n",
    "veri.head(3)"
   ]
  },
  {
   "cell_type": "code",
   "execution_count": 65,
   "metadata": {},
   "outputs": [
    {
     "name": "stdout",
     "output_type": "stream",
     "text": [
      "<class 'pandas.core.frame.DataFrame'>\n",
      "RangeIndex: 160 entries, 0 to 159\n",
      "Data columns (total 6 columns):\n",
      " #   Column    Non-Null Count  Dtype  \n",
      "---  ------    --------------  -----  \n",
      " 0   isim      160 non-null    object \n",
      " 1   cinsiyet  160 non-null    object \n",
      " 2   yas       160 non-null    float64\n",
      " 3   boy       155 non-null    float64\n",
      " 4   kilo      156 non-null    float64\n",
      " 5   spor      160 non-null    object \n",
      "dtypes: float64(3), object(3)\n",
      "memory usage: 7.6+ KB\n"
     ]
    }
   ],
   "source": [
    "veri.info()"
   ]
  },
  {
   "cell_type": "code",
   "execution_count": 66,
   "metadata": {},
   "outputs": [],
   "source": [
    "veri_temiz = veri.copy()"
   ]
  },
  {
   "cell_type": "code",
   "execution_count": 67,
   "metadata": {},
   "outputs": [
    {
     "data": {
      "text/html": [
       "<div>\n",
       "<style scoped>\n",
       "    .dataframe tbody tr th:only-of-type {\n",
       "        vertical-align: middle;\n",
       "    }\n",
       "\n",
       "    .dataframe tbody tr th {\n",
       "        vertical-align: top;\n",
       "    }\n",
       "\n",
       "    .dataframe thead th {\n",
       "        text-align: right;\n",
       "    }\n",
       "</style>\n",
       "<table border=\"1\" class=\"dataframe\">\n",
       "  <thead>\n",
       "    <tr style=\"text-align: right;\">\n",
       "      <th></th>\n",
       "      <th>isim</th>\n",
       "      <th>cinsiyet</th>\n",
       "      <th>yas</th>\n",
       "      <th>spor</th>\n",
       "    </tr>\n",
       "  </thead>\n",
       "  <tbody>\n",
       "    <tr>\n",
       "      <th>0</th>\n",
       "      <td>Slvia Domnguez Fernndez</td>\n",
       "      <td>K</td>\n",
       "      <td>29.0</td>\n",
       "      <td>Basketbol</td>\n",
       "    </tr>\n",
       "    <tr>\n",
       "      <th>1</th>\n",
       "      <td>Usman Edu Muhammed</td>\n",
       "      <td>E</td>\n",
       "      <td>22.0</td>\n",
       "      <td>Futbol</td>\n",
       "    </tr>\n",
       "    <tr>\n",
       "      <th>2</th>\n",
       "      <td>Okechukwu Godson Azubuike</td>\n",
       "      <td>E</td>\n",
       "      <td>19.0</td>\n",
       "      <td>Futbol</td>\n",
       "    </tr>\n",
       "    <tr>\n",
       "      <th>3</th>\n",
       "      <td>Tamara Radoaj</td>\n",
       "      <td>K</td>\n",
       "      <td>28.0</td>\n",
       "      <td>Basketbol</td>\n",
       "    </tr>\n",
       "    <tr>\n",
       "      <th>4</th>\n",
       "      <td>Popoola Sodiq Saliu</td>\n",
       "      <td>E</td>\n",
       "      <td>21.0</td>\n",
       "      <td>Futbol</td>\n",
       "    </tr>\n",
       "    <tr>\n",
       "      <th>...</th>\n",
       "      <td>...</td>\n",
       "      <td>...</td>\n",
       "      <td>...</td>\n",
       "      <td>...</td>\n",
       "    </tr>\n",
       "    <tr>\n",
       "      <th>155</th>\n",
       "      <td>Emanuele Birarelli</td>\n",
       "      <td>E</td>\n",
       "      <td>35.0</td>\n",
       "      <td>Voleybol</td>\n",
       "    </tr>\n",
       "    <tr>\n",
       "      <th>156</th>\n",
       "      <td>Jovana Brakoevi-Kancian</td>\n",
       "      <td>K</td>\n",
       "      <td>28.0</td>\n",
       "      <td>Voleybol</td>\n",
       "    </tr>\n",
       "    <tr>\n",
       "      <th>157</th>\n",
       "      <td>Bruno \"Bruninho\" Mossa de Rezende</td>\n",
       "      <td>E</td>\n",
       "      <td>30.0</td>\n",
       "      <td>Voleybol</td>\n",
       "    </tr>\n",
       "    <tr>\n",
       "      <th>158</th>\n",
       "      <td>Tina Alexandria Charles</td>\n",
       "      <td>K</td>\n",
       "      <td>27.0</td>\n",
       "      <td>Basketbol</td>\n",
       "    </tr>\n",
       "    <tr>\n",
       "      <th>159</th>\n",
       "      <td>Micah Makanamaikalani Christenson</td>\n",
       "      <td>E</td>\n",
       "      <td>23.0</td>\n",
       "      <td>Voleybol</td>\n",
       "    </tr>\n",
       "  </tbody>\n",
       "</table>\n",
       "<p>160 rows × 4 columns</p>\n",
       "</div>"
      ],
      "text/plain": [
       "                                  isim cinsiyet   yas       spor\n",
       "0              Slvia Domnguez Fernndez        K  29.0  Basketbol\n",
       "1                   Usman Edu Muhammed        E  22.0     Futbol\n",
       "2            Okechukwu Godson Azubuike        E  19.0     Futbol\n",
       "3                        Tamara Radoaj        K  28.0  Basketbol\n",
       "4                  Popoola Sodiq Saliu        E  21.0     Futbol\n",
       "..                                 ...      ...   ...        ...\n",
       "155                 Emanuele Birarelli        E  35.0   Voleybol\n",
       "156            Jovana Brakoevi-Kancian        K  28.0   Voleybol\n",
       "157  Bruno \"Bruninho\" Mossa de Rezende        E  30.0   Voleybol\n",
       "158            Tina Alexandria Charles        K  27.0  Basketbol\n",
       "159  Micah Makanamaikalani Christenson        E  23.0   Voleybol\n",
       "\n",
       "[160 rows x 4 columns]"
      ]
     },
     "execution_count": 67,
     "metadata": {},
     "output_type": "execute_result"
    }
   ],
   "source": [
    "# veri deki eksik sütunları silme\n",
    "veri_temiz.drop(labels=[\"boy\",\"kilo\"],axis=1)#inplace=True"
   ]
  },
  {
   "cell_type": "code",
   "execution_count": 68,
   "metadata": {},
   "outputs": [
    {
     "name": "stdout",
     "output_type": "stream",
     "text": [
      "<class 'pandas.core.frame.DataFrame'>\n",
      "Int64Index: 151 entries, 0 to 154\n",
      "Data columns (total 6 columns):\n",
      " #   Column    Non-Null Count  Dtype  \n",
      "---  ------    --------------  -----  \n",
      " 0   isim      151 non-null    object \n",
      " 1   cinsiyet  151 non-null    object \n",
      " 2   yas       151 non-null    float64\n",
      " 3   boy       151 non-null    float64\n",
      " 4   kilo      151 non-null    float64\n",
      " 5   spor      151 non-null    object \n",
      "dtypes: float64(3), object(3)\n",
      "memory usage: 8.3+ KB\n"
     ]
    }
   ],
   "source": [
    "veri_temiz.dropna(axis=0).info()#boş olan verilerin axis=0 ile satırlardan silinmesini sağladık"
   ]
  },
  {
   "cell_type": "code",
   "execution_count": 69,
   "metadata": {},
   "outputs": [
    {
     "name": "stdout",
     "output_type": "stream",
     "text": [
      "<class 'pandas.core.frame.DataFrame'>\n",
      "RangeIndex: 160 entries, 0 to 159\n",
      "Data columns (total 6 columns):\n",
      " #   Column    Non-Null Count  Dtype  \n",
      "---  ------    --------------  -----  \n",
      " 0   isim      160 non-null    object \n",
      " 1   cinsiyet  160 non-null    object \n",
      " 2   yas       160 non-null    float64\n",
      " 3   boy       155 non-null    float64\n",
      " 4   kilo      156 non-null    float64\n",
      " 5   spor      160 non-null    object \n",
      "dtypes: float64(3), object(3)\n",
      "memory usage: 7.6+ KB\n"
     ]
    }
   ],
   "source": [
    "veri_temiz.info()"
   ]
  },
  {
   "cell_type": "code",
   "execution_count": 70,
   "metadata": {},
   "outputs": [
    {
     "name": "stdout",
     "output_type": "stream",
     "text": [
      "<class 'pandas.core.frame.DataFrame'>\n",
      "RangeIndex: 160 entries, 0 to 159\n",
      "Data columns (total 6 columns):\n",
      " #   Column    Non-Null Count  Dtype  \n",
      "---  ------    --------------  -----  \n",
      " 0   isim      160 non-null    object \n",
      " 1   cinsiyet  160 non-null    object \n",
      " 2   yas       160 non-null    float64\n",
      " 3   boy       160 non-null    float64\n",
      " 4   kilo      160 non-null    float64\n",
      " 5   spor      160 non-null    object \n",
      "dtypes: float64(3), object(3)\n",
      "memory usage: 7.6+ KB\n"
     ]
    }
   ],
   "source": [
    "# sklearn numpy ile çalışır.\n",
    "# verielri 2 boyutlu ister.\n",
    "# veriler bir sütun içinse satır sayısı ne olursa olsun 1 sütun ister\n",
    "imputer=SimpleImputer(missing_values=np.nan,strategy=\"median\")#strategy--> mean,median,most_frequent,constant\n",
    "boy=veri_temiz[\"boy\"].values.reshape(-1,1)\n",
    "kilo=veri_temiz[\"kilo\"].values.reshape(-1,1)\n",
    "veri_temiz[\"boy\"]=imputer.fit_transform(boy)\n",
    "veri_temiz[\"kilo\"]=imputer.fit_transform(kilo)\n",
    "veri_temiz.info()\n"
   ]
  },
  {
   "cell_type": "code",
   "execution_count": 71,
   "metadata": {},
   "outputs": [
    {
     "name": "stdout",
     "output_type": "stream",
     "text": [
      "yas_alt 9.0\n",
      "yas_ust 41.0\n",
      "yas_median 25.0\n"
     ]
    },
    {
     "data": {
      "text/html": [
       "<div>\n",
       "<style scoped>\n",
       "    .dataframe tbody tr th:only-of-type {\n",
       "        vertical-align: middle;\n",
       "    }\n",
       "\n",
       "    .dataframe tbody tr th {\n",
       "        vertical-align: top;\n",
       "    }\n",
       "\n",
       "    .dataframe thead th {\n",
       "        text-align: right;\n",
       "    }\n",
       "</style>\n",
       "<table border=\"1\" class=\"dataframe\">\n",
       "  <thead>\n",
       "    <tr style=\"text-align: right;\">\n",
       "      <th></th>\n",
       "      <th>isim</th>\n",
       "      <th>cinsiyet</th>\n",
       "      <th>yas</th>\n",
       "      <th>boy</th>\n",
       "      <th>kilo</th>\n",
       "      <th>spor</th>\n",
       "    </tr>\n",
       "  </thead>\n",
       "  <tbody>\n",
       "  </tbody>\n",
       "</table>\n",
       "</div>"
      ],
      "text/plain": [
       "Empty DataFrame\n",
       "Columns: [isim, cinsiyet, yas, boy, kilo, spor]\n",
       "Index: []"
      ]
     },
     "execution_count": 71,
     "metadata": {},
     "output_type": "execute_result"
    }
   ],
   "source": [
    "q1=veri_temiz[\"yas\"].describe()[\"25%\"]\n",
    "q3=veri_temiz[\"yas\"].describe()[\"75%\"]\n",
    "iqr=q3-q1\n",
    "alt=q1-iqr*1.5\n",
    "ust=q3+iqr*1.5\n",
    "ort=veri_temiz[\"yas\"].describe()[\"50%\"]\n",
    "print(\"yas_alt\",alt)\n",
    "print(\"yas_ust\",ust)\n",
    "print(\"yas_median\",ort)\n",
    "veri_temiz[(veri_temiz[\"yas\"]<alt)|(veri_temiz[\"yas\"]>ust)]"
   ]
  },
  {
   "cell_type": "code",
   "execution_count": 72,
   "metadata": {},
   "outputs": [],
   "source": [
    "# for s in [\"yas\",\"boy\",\"kilo\"]:\n",
    "#     aykirilar=[]\n",
    "#     q1=veri_temiz[s].describe()[\"25%\"]\n",
    "#     q3=veri_temiz[s].describe()[\"75%\"]\n",
    "#     iqr=q3-q1\n",
    "#     alt=q1-iqr*1.5\n",
    "#     ust=q3+iqr*1.5\n",
    "#     ort=veri_temiz[s].describe()[\"50%\"]\n",
    "    \n",
    "#     aykirilar=(veri_temiz[(veri_temiz[s]<alt)|(veri_temiz[s]>ust)].index.tolist())\n",
    "    \n",
    "#     veri_temiz.loc[aykirilar,s]=float(ort)\n",
    "#     print(f\"\\n\\n{s} veri aykırılar\")\n",
    "#     print(s,aykirilar)\n"
   ]
  },
  {
   "cell_type": "code",
   "execution_count": 73,
   "metadata": {},
   "outputs": [],
   "source": [
    "# aykirilar=[]\n",
    "# ort=[]\n",
    "# for s in [\"yas\",\"boy\",\"kilo\"]:    \n",
    "#     q1=veri_temiz[s].describe()[\"25%\"]\n",
    "#     q3=veri_temiz[s].describe()[\"75%\"]\n",
    "#     iqr=q3-q1\n",
    "#     alt=q1-iqr*1.5\n",
    "#     ust=q3+iqr*1.5\n",
    "#     ort.append(veri_temiz[s].describe()[\"50%\"])\n",
    "#     aykirilar.append(veri_temiz[(veri_temiz[s]<alt)|(veri_temiz[s]>ust)].index.tolist())    \n",
    "#     # veri_temiz.loc[aykirilar,s]=float(ort)\n",
    "# # print(f\"\\n\\n{s} veri aykırılar\")\n",
    "# # print(s,aykirilar)\n",
    "# veri_temiz.iloc[aykirilar[0],2]=float(ort[0])\n",
    "# veri_temiz.iloc[aykirilar[1],3]=float(ort[1])\n",
    "# veri_temiz.iloc[aykirilar[2],4]=float(ort[2])\n"
   ]
  },
  {
   "cell_type": "code",
   "execution_count": 74,
   "metadata": {},
   "outputs": [],
   "source": [
    "# q1=veri_temiz[\"yas\"].describe()[\"25%\"]\n",
    "# q3=veri_temiz[\"yas\"].describe()[\"75%\"]\n",
    "# iqr=q3-q1\n",
    "# alt=q1-iqr*1.5\n",
    "# ust=q3+iqr*1.5\n",
    "# ort=veri_temiz[\"yas\"].describe()[\"50%\"]\n",
    "# veri_temiz.loc[veri_temiz[(veri_temiz[\"yas\"]<alt)|(veri_temiz[\"yas\"]>ust)].index.tolist(),\"yas\"]=float(ort)\n",
    "\n",
    "# q1=veri_temiz[\"boy\"].describe()[\"25%\"]\n",
    "# q3=veri_temiz[\"boy\"].describe()[\"75%\"]\n",
    "# iqr=q3-q1\n",
    "# alt=q1-iqr*1.5\n",
    "# ust=q3+iqr*1.5\n",
    "# ort=veri_temiz[\"boy\"].describe()[\"50%\"]\n",
    "# veri_temiz.loc[veri_temiz[(veri_temiz[\"boy\"]<alt)|(veri_temiz[\"boy\"]>ust)].index.tolist(),\"boy\"]=float(ort)\n",
    "\n",
    "# q1=veri_temiz[\"kilo\"].describe()[\"25%\"]\n",
    "# q3=veri_temiz[\"kilo\"].describe()[\"75%\"]\n",
    "# iqr=q3-q1\n",
    "# alt=q1-iqr*1.5\n",
    "# ust=q3+iqr*1.5\n",
    "# ort=veri_temiz[\"kilo\"].describe()[\"50%\"]\n",
    "# veri_temiz.loc[veri_temiz[(veri_temiz[\"kilo\"]<alt)|(veri_temiz[\"kilo\"]>ust)].index.tolist(),\"kilo\"]=float(ort)"
   ]
  },
  {
   "cell_type": "code",
   "execution_count": 75,
   "metadata": {},
   "outputs": [],
   "source": [
    "# aykirilar=[]\n",
    "# for s in [\"yas\",\"boy\",\"kilo\"]:    \n",
    "#     q1=veri_temiz[s].describe()[\"25%\"]\n",
    "#     q3=veri_temiz[s].describe()[\"75%\"]\n",
    "#     iqr=q3-q1\n",
    "#     alt=q1-iqr*1.5\n",
    "#     ust=q3+iqr*1.5\n",
    "#     ort=veri_temiz[s].describe()[\"50%\"]    \n",
    "#     aykirilar.append(veri_temiz[(veri_temiz[s]<alt)|(veri_temiz[s]>ust)].index.tolist())    \n",
    "\n",
    "# print(aykirilar)"
   ]
  },
  {
   "cell_type": "code",
   "execution_count": 82,
   "metadata": {},
   "outputs": [
    {
     "name": "stdout",
     "output_type": "stream",
     "text": [
      "77.0\n"
     ]
    },
    {
     "data": {
      "text/html": [
       "<div>\n",
       "<style scoped>\n",
       "    .dataframe tbody tr th:only-of-type {\n",
       "        vertical-align: middle;\n",
       "    }\n",
       "\n",
       "    .dataframe tbody tr th {\n",
       "        vertical-align: top;\n",
       "    }\n",
       "\n",
       "    .dataframe thead th {\n",
       "        text-align: right;\n",
       "    }\n",
       "</style>\n",
       "<table border=\"1\" class=\"dataframe\">\n",
       "  <thead>\n",
       "    <tr style=\"text-align: right;\">\n",
       "      <th></th>\n",
       "      <th>isim</th>\n",
       "      <th>cinsiyet</th>\n",
       "      <th>yas</th>\n",
       "      <th>boy</th>\n",
       "      <th>kilo</th>\n",
       "      <th>spor</th>\n",
       "    </tr>\n",
       "  </thead>\n",
       "  <tbody>\n",
       "    <tr>\n",
       "      <th>141</th>\n",
       "      <td>Matthew John \"Matt\" Anderson</td>\n",
       "      <td>E</td>\n",
       "      <td>29.0</td>\n",
       "      <td>202.0</td>\n",
       "      <td>100.0</td>\n",
       "      <td>Voleybol</td>\n",
       "    </tr>\n",
       "    <tr>\n",
       "      <th>145</th>\n",
       "      <td>Ivan Zaytsev</td>\n",
       "      <td>E</td>\n",
       "      <td>27.0</td>\n",
       "      <td>204.0</td>\n",
       "      <td>100.0</td>\n",
       "      <td>Voleybol</td>\n",
       "    </tr>\n",
       "    <tr>\n",
       "      <th>147</th>\n",
       "      <td>Simone Buti</td>\n",
       "      <td>E</td>\n",
       "      <td>32.0</td>\n",
       "      <td>206.0</td>\n",
       "      <td>100.0</td>\n",
       "      <td>Voleybol</td>\n",
       "    </tr>\n",
       "    <tr>\n",
       "      <th>151</th>\n",
       "      <td>Matteo Piano</td>\n",
       "      <td>E</td>\n",
       "      <td>25.0</td>\n",
       "      <td>208.0</td>\n",
       "      <td>102.0</td>\n",
       "      <td>Voleybol</td>\n",
       "    </tr>\n",
       "    <tr>\n",
       "      <th>152</th>\n",
       "      <td>Lucas Saatkamp</td>\n",
       "      <td>E</td>\n",
       "      <td>30.0</td>\n",
       "      <td>209.0</td>\n",
       "      <td>101.0</td>\n",
       "      <td>Voleybol</td>\n",
       "    </tr>\n",
       "  </tbody>\n",
       "</table>\n",
       "</div>"
      ],
      "text/plain": [
       "                             isim cinsiyet   yas    boy   kilo      spor\n",
       "141  Matthew John \"Matt\" Anderson        E  29.0  202.0  100.0  Voleybol\n",
       "145                  Ivan Zaytsev        E  27.0  204.0  100.0  Voleybol\n",
       "147                   Simone Buti        E  32.0  206.0  100.0  Voleybol\n",
       "151                  Matteo Piano        E  25.0  208.0  102.0  Voleybol\n",
       "152                Lucas Saatkamp        E  30.0  209.0  101.0  Voleybol"
      ]
     },
     "execution_count": 82,
     "metadata": {},
     "output_type": "execute_result"
    }
   ],
   "source": [
    "q1=veri_temiz[\"kilo\"].describe()[\"25%\"]\n",
    "q3=veri_temiz[\"kilo\"].describe()[\"75%\"]\n",
    "iqr=q3-q1\n",
    "alt=q1-iqr*1.5\n",
    "ust=q3+iqr*1.5\n",
    "ort=veri_temiz[\"kilo\"].describe()[\"50%\"]\n",
    "aykirilar=veri_temiz[(veri_temiz[\"kilo\"]<alt)|(veri_temiz[\"kilo\"]>ust)]\n",
    "# veri_temiz.loc[veri_temiz[(veri_temiz[\"kilo\"]<alt)|(veri_temiz[\"kilo\"]>ust)].index.tolist(),\"kilo\"]=float(ort)\n",
    "print(ort)\n",
    "aykirilar"
   ]
  },
  {
   "cell_type": "code",
   "execution_count": 79,
   "metadata": {},
   "outputs": [],
   "source": [
    "veri_temiz.loc[aykirilar.index,\"kilo\"]=77.0"
   ]
  },
  {
   "cell_type": "code",
   "execution_count": 80,
   "metadata": {},
   "outputs": [
    {
     "data": {
      "text/plain": [
       "4      77.0\n",
       "143    77.0\n",
       "144    77.0\n",
       "146    77.0\n",
       "149    77.0\n",
       "Name: kilo, dtype: float64"
      ]
     },
     "execution_count": 80,
     "metadata": {},
     "output_type": "execute_result"
    }
   ],
   "source": [
    "veri_temiz.loc[aykirilar.index,\"kilo\"]"
   ]
  }
 ],
 "metadata": {
  "interpreter": {
   "hash": "916dbcbb3f70747c44a77c7bcd40155683ae19c65e1c03b4aa3499c5328201f1"
  },
  "kernelspec": {
   "display_name": "Python 3.9.2 64-bit",
   "language": "python",
   "name": "python3"
  },
  "language_info": {
   "codemirror_mode": {
    "name": "ipython",
    "version": 3
   },
   "file_extension": ".py",
   "mimetype": "text/x-python",
   "name": "python",
   "nbconvert_exporter": "python",
   "pygments_lexer": "ipython3",
   "version": "3.9.2"
  },
  "orig_nbformat": 4
 },
 "nbformat": 4,
 "nbformat_minor": 2
}
