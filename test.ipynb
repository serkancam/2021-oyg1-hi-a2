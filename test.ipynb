{
 "cells": [
  {
   "cell_type": "code",
   "execution_count": 1,
   "metadata": {},
   "outputs": [
    {
     "name": "stdout",
     "output_type": "stream",
     "text": [
      "(400, 640, 3)\n"
     ]
    }
   ],
   "source": [
    "import cv2\n",
    "import os\n",
    "import numpy as np\n",
    "\n",
    "#resim yolunu(path) bulalım\n",
    "#marsrover.png\n",
    "# şuanda bulunduğumuz dizin \n",
    "# os.getcwd() şu anda çalışan py dosyasının bulunduğu dizinin tam yolunu(full path) verir\n",
    "# print(os.getcwd())\n",
    "cd = os.getcwd()#şu anda b\n",
    "img_path=os.path.join(cd,\"images\",\"chp1\",\"marsrover.png\")\n",
    "#/home/serkan/Belgeler/2021-oyg1-hi-a2/images/chp1/marsrover.png\n",
    "image = cv2.imread(\"/home/serkan/Belgeler/2021-oyg1-hi-a2/images/chp1/marsrover.png\")\n",
    "print(image.shape)\n",
    "#image görüntüsü resmim isimli bir pencerede açılacak\n",
    "cv2.imshow(\"resmim\",image)\n",
    "#benden bir tıklama gelene kadar beklemesi için\n",
    "cv2.waitKey(0)\n",
    "cv2.destroyAllWindows()"
   ]
  }
 ],
 "metadata": {
  "interpreter": {
   "hash": "916dbcbb3f70747c44a77c7bcd40155683ae19c65e1c03b4aa3499c5328201f1"
  },
  "kernelspec": {
   "display_name": "Python 3.9.2 64-bit",
   "language": "python",
   "name": "python3"
  },
  "language_info": {
   "codemirror_mode": {
    "name": "ipython",
    "version": 3
   },
   "file_extension": ".py",
   "mimetype": "text/x-python",
   "name": "python",
   "nbconvert_exporter": "python",
   "pygments_lexer": "ipython3",
   "version": "3.9.2"
  },
  "orig_nbformat": 4
 },
 "nbformat": 4,
 "nbformat_minor": 2
}
